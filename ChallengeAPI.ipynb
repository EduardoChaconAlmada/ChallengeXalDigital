{
 "cells": [
  {
   "cell_type": "code",
   "execution_count": 1,
   "id": "0f44389d-20d9-4339-b104-64c76bf96dd7",
   "metadata": {},
   "outputs": [],
   "source": [
    "import requests\n",
    "import json"
   ]
  },
  {
   "cell_type": "code",
   "execution_count": 2,
   "id": "9144546d-a02d-4b2f-999c-db541f8d7711",
   "metadata": {},
   "outputs": [],
   "source": [
    "response = requests.get('https://api.stackexchange.com/2.2/search?order=desc&sort=activity&intitle=perl&site=stackoverflow')\n",
    "data = response.json()"
   ]
  },
  {
   "cell_type": "code",
   "execution_count": 3,
   "id": "280257f2-6ea5-4dd3-81fe-9dbd6a67525f",
   "metadata": {},
   "outputs": [],
   "source": [
    "# Obtener el número de respuestas contestadas y no contestadas\n",
    "contestadas = 0\n",
    "no_contestadas = 0"
   ]
  },
  {
   "cell_type": "code",
   "execution_count": 4,
   "id": "f0db9682-08c4-4694-aacc-a1b9c16b001d",
   "metadata": {},
   "outputs": [],
   "source": [
    "# Iterar sobre las respuestas y contar\n",
    "for respuesta in data['items']:\n",
    "    if respuesta['is_answered']:\n",
    "        contestadas += 1\n",
    "    else:\n",
    "        no_contestadas += 1"
   ]
  },
  {
   "cell_type": "code",
   "execution_count": 5,
   "id": "1651b6c2-c531-4453-b102-25bcf9b27746",
   "metadata": {},
   "outputs": [
    {
     "name": "stdout",
     "output_type": "stream",
     "text": [
      "Respuestas contestadas: 19\n",
      "Respuestas no contestadas: 11\n"
     ]
    }
   ],
   "source": [
    "print(\"Respuestas contestadas:\", contestadas)\n",
    "print(\"Respuestas no contestadas:\", no_contestadas)"
   ]
  },
  {
   "cell_type": "code",
   "execution_count": 6,
   "id": "e5f3a616-fa33-4bc2-90e2-abb06aa7fdf3",
   "metadata": {},
   "outputs": [
    {
     "name": "stdout",
     "output_type": "stream",
     "text": [
      "respuesta_menor_vistas {'tags': ['flask', 'cgi'], 'owner': {'reputation': 1481, 'user_id': 3361129, 'user_type': 'registered', 'profile_image': 'https://www.gravatar.com/avatar/04bcad9ae108963ce9b3ff752ae3e1c8?s=256&d=identicon&r=PG&f=y&so-version=2', 'display_name': 'Thomas Altfather Good', 'link': 'https://stackoverflow.com/users/3361129/thomas-altfather-good'}, 'is_answered': False, 'view_count': 4, 'answer_count': 0, 'score': 0, 'last_activity_date': 1709815780, 'creation_date': 1709815780, 'question_id': 78121508, 'content_license': 'CC BY-SA 4.0', 'link': 'https://stackoverflow.com/questions/78121508/flask-and-perl-on-apache-can-they-coexist-on-port-443', 'title': 'Flask and Perl on Apache - can they coexist on Port 443?'}\n"
     ]
    }
   ],
   "source": [
    "# Obtener la respuesta con menor número de vistas\n",
    "respuesta_menor_vistas = min(data['items'], key=lambda x: x['view_count'])\n",
    "print('respuesta_menor_vistas', respuesta_menor_vistas)"
   ]
  },
  {
   "cell_type": "code",
   "execution_count": 7,
   "id": "e304d78e-7071-4540-a0f6-f086017000f3",
   "metadata": {},
   "outputs": [
    {
     "name": "stdout",
     "output_type": "stream",
     "text": [
      "respuesta_mas_vieja {'tags': ['perl', 'arrays', 'unique', 'duplicates'], 'owner': {'reputation': 14097, 'user_id': 381, 'user_type': 'registered', 'accept_rate': 89, 'profile_image': 'https://www.gravatar.com/avatar/8d97f1496e5d1aa2ea95184f80425897?s=256&d=identicon&r=PG', 'display_name': 'David', 'link': 'https://stackoverflow.com/users/381/david'}, 'is_answered': True, 'view_count': 242282, 'protected_date': 1331632238, 'accepted_answer_id': 7657, 'answer_count': 11, 'score': 175, 'last_activity_date': 1709219092, 'creation_date': 1218449072, 'last_edit_date': 1419537451, 'question_id': 7651, 'content_license': 'CC BY-SA 3.0', 'link': 'https://stackoverflow.com/questions/7651/how-do-i-remove-duplicate-items-from-an-array-in-perl', 'title': 'How do I remove duplicate items from an array in Perl?'}\n"
     ]
    }
   ],
   "source": [
    "# Encontrar la respuesta más vieja\n",
    "respuesta_mas_vieja = min(data['items'], key=lambda x: x['creation_date'])\n",
    "print('respuesta_mas_vieja', respuesta_mas_vieja)"
   ]
  },
  {
   "cell_type": "code",
   "execution_count": 8,
   "id": "eb316fbc-cabf-4d7a-8022-a191d3209e2c",
   "metadata": {},
   "outputs": [
    {
     "name": "stdout",
     "output_type": "stream",
     "text": [
      "respuesta_mas_actual {'tags': ['xml', 'perl', 'parsing', 'templates'], 'owner': {'reputation': 1, 'user_id': 1883796, 'user_type': 'registered', 'profile_image': 'https://www.gravatar.com/avatar/6fe26b3696a53618f2d55d82a3b57b33?s=256&d=identicon&r=PG', 'display_name': 'user1883796', 'link': 'https://stackoverflow.com/users/1883796/user1883796'}, 'is_answered': False, 'view_count': 17, 'answer_count': 1, 'score': -1, 'last_activity_date': 1710394721, 'creation_date': 1710389078, 'last_edit_date': 1710394721, 'question_id': 78158052, 'content_license': 'CC BY-SA 4.0', 'link': 'https://stackoverflow.com/questions/78158052/perl-xml-help-needed', 'title': 'Perl XML help needed'}\n"
     ]
    }
   ],
   "source": [
    "# Encontrar la respuesta más actual\n",
    "respuesta_mas_actual = max(data['items'], key=lambda x: x['last_activity_date'])\n",
    "print('respuesta_mas_actual', respuesta_mas_actual)"
   ]
  },
  {
   "cell_type": "code",
   "execution_count": 9,
   "id": "38ae8e37-f52a-4ebc-95e5-5ea6fcb0f332",
   "metadata": {},
   "outputs": [
    {
     "name": "stdout",
     "output_type": "stream",
     "text": [
      "owner_con_mas_reputacion {'tags': ['perl', 'boolean', 'type-conversion'], 'owner': {'reputation': 77074, 'user_id': 13860, 'user_type': 'registered', 'accept_rate': 63, 'profile_image': 'https://i.stack.imgur.com/3mW5P.png?s=256&g=1', 'display_name': 'Jonathan Hall', 'link': 'https://stackoverflow.com/users/13860/jonathan-hall'}, 'is_answered': True, 'view_count': 4887, 'accepted_answer_id': 33016360, 'answer_count': 6, 'score': 58, 'last_activity_date': 1709462313, 'creation_date': 1444302589, 'last_edit_date': 1444317815, 'question_id': 33014080, 'content_license': 'CC BY-SA 3.0', 'link': 'https://stackoverflow.com/questions/33014080/why-is-considered-bad-form-in-perl', 'title': 'Why is &quot;!!&quot; considered bad form in Perl?'}\n"
     ]
    }
   ],
   "source": [
    "# la respuesta del owner que tenga una mayor reputación\n",
    "owner_con_mas_reputacion = max(data['items'], key=lambda x: x['owner']['reputation'])\n",
    "print('owner_con_mas_reputacion', owner_con_mas_reputacion)"
   ]
  }
 ],
 "metadata": {
  "kernelspec": {
   "display_name": "Python 3 (ipykernel)",
   "language": "python",
   "name": "python3"
  },
  "language_info": {
   "codemirror_mode": {
    "name": "ipython",
    "version": 3
   },
   "file_extension": ".py",
   "mimetype": "text/x-python",
   "name": "python",
   "nbconvert_exporter": "python",
   "pygments_lexer": "ipython3",
   "version": "3.11.7"
  }
 },
 "nbformat": 4,
 "nbformat_minor": 5
}
